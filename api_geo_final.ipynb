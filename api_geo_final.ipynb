{
 "cells": [
  {
   "cell_type": "markdown",
   "metadata": {},
   "source": [
    "**Récupération des données de communes**"
   ]
  },
  {
   "cell_type": "code",
   "execution_count": 136,
   "metadata": {},
   "outputs": [],
   "source": [
    "import requests\n",
    "import pandas as pd\n",
    "import json\n",
    "import tqdm"
   ]
  },
  {
   "attachments": {},
   "cell_type": "markdown",
   "metadata": {},
   "source": [
    "**Récupération des noms et des codes de communes**"
   ]
  },
  {
   "cell_type": "code",
   "execution_count": 119,
   "metadata": {},
   "outputs": [
    {
     "name": "stdout",
     "output_type": "stream",
     "text": [
      "(35039, 2)\n",
      "<class 'pandas.core.frame.DataFrame'>\n",
      "RangeIndex: 35039 entries, 0 to 35038\n",
      "Data columns (total 2 columns):\n",
      " #   Column        Non-Null Count  Dtype \n",
      "---  ------        --------------  ----- \n",
      " 0   Nom Commune   35039 non-null  object\n",
      " 1   Code Commune  35039 non-null  object\n",
      "dtypes: object(2)\n",
      "memory usage: 547.6+ KB\n"
     ]
    }
   ],
   "source": [
    "url_api = \"https://geo.api.gouv.fr/communes\"\n",
    "\n",
    "r = requests.get(url_api)\n",
    "content = r.json()\n",
    "\n",
    "nom =[]\n",
    "code=[]\n",
    "\n",
    "for item in content:\n",
    "    nom.append(item['nom'])\n",
    "    code.append(item['code'])\n",
    "\n",
    "data_df = pd.DataFrame({\n",
    "    'Nom Commune': nom,\n",
    "    'Code Commune': code\n",
    "    })\n",
    "\n",
    "print(data_df.shape)\n",
    "data_df.info()\n",
    "\n"
   ]
  },
  {
   "attachments": {},
   "cell_type": "markdown",
   "metadata": {},
   "source": [
    "**Récupération des données géographique des communes**"
   ]
  },
  {
   "cell_type": "code",
   "execution_count": null,
   "metadata": {},
   "outputs": [],
   "source": [
    "# URL API\n",
    "url_api_com = \"https://geo.api.gouv.fr/communes?code=CODE&fields=code,centre,surface,contour,mairie,bbox,population,codeDepartement,departement,codeRegion,region,zone&format=geojson&geometry=contour\"\n",
    "\n",
    "# initialisation des listes\n",
    "code_commune=[]\n",
    "nom_commune=[]\n",
    "nom_departement=[]\n",
    "code_departement=[]\n",
    "nom_region=[]\n",
    "code_region=[]\n",
    "zone=[]\n",
    "population=[]\n",
    "surface=[]\n",
    "coordinate=[]\n",
    "# récupération de la réponse, analyse et ajout des données dans les listes\n",
    "for code_com in tqdm.tqdm(data_df['Code Commune'], desc=\"Traitement en cours\", bar_format=\"{l_bar}{bar:20}{r_bar}\"):\n",
    "    c=requests.get(url_api_com.replace('CODE', str(code_com)))\n",
    "    content_communes = c.json()\n",
    "    features = content_communes['features'][0]\n",
    "   \n",
    "    try:\n",
    "        code_commune.append(features['properties']['code'])\n",
    "    except:\n",
    "        code_commune.append(\"\")\n",
    "    try:\n",
    "        nom_commune.append(features['properties']['nom'])\n",
    "    except:\n",
    "        nom_commune.append(\"\")\n",
    "    try:\n",
    "        nom_departement.append(features['properties']['departement']['nom'])\n",
    "    except:\n",
    "        nom_departement.append(\"\")\n",
    "    try:\n",
    "        code_departement.append(features['properties']['departement']['code'])\n",
    "    except:\n",
    "        code_departement.append(\"\")\n",
    "    try:\n",
    "        nom_region.append(features['properties']['region']['nom'])\n",
    "    except:\n",
    "        nom_region.append(\"\")\n",
    "    try:\n",
    "        code_region.append(features['properties']['region']['code'])\n",
    "    except:\n",
    "        code_region.append(\"\")\n",
    "    try:\n",
    "        zone.append(features['properties']['zone'])\n",
    "    except:\n",
    "        zone.append(\"\")\n",
    "    try:\n",
    "        population.append(features['properties']['population'])\n",
    "    except:\n",
    "        population.append(0)\n",
    "    try:\n",
    "        surface.append(features['properties']['surface'])\n",
    "    except:\n",
    "        surface.append(0)\n",
    "    try:\n",
    "        coordinate.append(features['geometry'])\n",
    "    except:\n",
    "        coordinate.append(\"\")\n",
    "\n",
    "# Création du Dataframe\n",
    "df_communes=pd.DataFrame({\n",
    "    'code_commune': code_commune,\n",
    "    'nom_commune' : nom_commune,\n",
    "    'code_departement' : code_departement,\n",
    "    'nom_departement' : nom_departement,\n",
    "    'code_region' : code_region,\n",
    "    'nom_region' : nom_region,\n",
    "    'zone' : zone,\n",
    "    'population': population,\n",
    "    'surface': surface,\n",
    "    'geometry': coordinate\n",
    "    })\n",
    "# Enregistrement des données dans le fichier CSV\n",
    "df_communes.to_csv('data_communes.csv',encoding='utf-8', index=False, index_label=False, mode='w' )\n"
   ]
  }
 ],
 "metadata": {
  "kernelspec": {
   "display_name": ".venv",
   "language": "python",
   "name": "python3"
  },
  "language_info": {
   "codemirror_mode": {
    "name": "ipython",
    "version": 3
   },
   "file_extension": ".py",
   "mimetype": "text/x-python",
   "name": "python",
   "nbconvert_exporter": "python",
   "pygments_lexer": "ipython3",
   "version": "3.11.4"
  },
  "orig_nbformat": 4
 },
 "nbformat": 4,
 "nbformat_minor": 2
}
